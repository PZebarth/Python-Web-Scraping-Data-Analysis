{
 "cells": [
  {
   "cell_type": "markdown",
   "metadata": {},
   "source": [
    "# Data Wrangling Report"
   ]
  },
  {
   "cell_type": "markdown",
   "metadata": {},
   "source": [
    "#### Paul Zebarth"
   ]
  },
  {
   "cell_type": "markdown",
   "metadata": {},
   "source": [
    "## Gathering Data"
   ]
  },
  {
   "cell_type": "markdown",
   "metadata": {},
   "source": [
    "I used two files to gather data:\n",
    "- twitter-archive-enhanced.csv (contained @dog_rates twitter incomplete archive)\n",
    "- image_predictions.tsv (contained dog breed predictions from a neural network)\n",
    "\n",
    "I scrapped the remaining information off of twitter's API and combined it into:\n",
    "- tweet_json.txt (contained tweet id, retweet count, favourite count)"
   ]
  },
  {
   "cell_type": "markdown",
   "metadata": {},
   "source": [
    "## Assesing Data"
   ]
  },
  {
   "cell_type": "markdown",
   "metadata": {},
   "source": [
    "I used sample( ), head( ), info( ), value_counts( ) and duplicated( ) to asses data and find quality and tidiness issues I needed to address for the three data frames."
   ]
  },
  {
   "cell_type": "markdown",
   "metadata": {},
   "source": [
    "## Cleaning Data"
   ]
  },
  {
   "cell_type": "markdown",
   "metadata": {},
   "source": [
    "### Quality Issues"
   ]
  },
  {
   "cell_type": "markdown",
   "metadata": {},
   "source": [
    "df_main:\n",
    "- tweet_id should be a string not and integer\n",
    "- timestamp is an opbject\n",
    "- in_reply_to_status_id  is a float\n",
    "- in_reply_to_user_id is a float\n",
    "- retweeted_status_timestamp is an object\n",
    "- retweeted_status_id is a float\n",
    "- incorrect names (a, the, an, etc.)\n",
    "\n",
    "df_img: \n",
    "- tweet_id should be a string not and integer\n",
    "- 543 photos arent of dogs\n",
    "- there are multiple same photos\n",
    "\n",
    "df_query:\n",
    "- tweet_id should be a string not and integer\n",
    "- missing some tweet_id's after scrapping\n",
    "    "
   ]
  },
  {
   "cell_type": "markdown",
   "metadata": {},
   "source": [
    "### Tidiness Issues"
   ]
  },
  {
   "cell_type": "markdown",
   "metadata": {},
   "source": [
    "- the dataframes (df_main, df_img, df_query) shopuld all be combined\n",
    "- the columns for doggo, fluffer, puppo, and pupper can be combined"
   ]
  },
  {
   "cell_type": "markdown",
   "metadata": {},
   "source": [
    "This was the most time consuming part of the project and required alot of work to fix as many issues as I could in an appropriate amount of time. I over simplified some of my solutions to issues. If I had more time I would have like to address the issues using an iterative solution."
   ]
  }
 ],
 "metadata": {
  "kernelspec": {
   "display_name": "Python 3",
   "language": "python",
   "name": "python3"
  },
  "language_info": {
   "codemirror_mode": {
    "name": "ipython",
    "version": 3
   },
   "file_extension": ".py",
   "mimetype": "text/x-python",
   "name": "python",
   "nbconvert_exporter": "python",
   "pygments_lexer": "ipython3",
   "version": "3.6.3"
  }
 },
 "nbformat": 4,
 "nbformat_minor": 2
}
